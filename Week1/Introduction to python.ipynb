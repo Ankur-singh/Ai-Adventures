{
 "cells": [
  {
   "cell_type": "markdown",
   "metadata": {},
   "source": [
    "#  <span style=\"color:blue\">Introduction to Python</span>"
   ]
  },
  {
   "cell_type": "markdown",
   "metadata": {},
   "source": [
    "###  __<span style=\"color:brown\">Note 1</span>: Python is a case sensitive programming language__"
   ]
  },
  {
   "cell_type": "markdown",
   "metadata": {},
   "source": [
    "### __<span style=\"color:brown\">Note 2</span>: Python provides no braces to indicate blocks of code for class and function definitions or flow control. Blocks of code are denoted by line indentation, which is rigidly enforced.__"
   ]
  },
  {
   "cell_type": "markdown",
   "metadata": {},
   "source": [
    "## __<span style=\"color:blue\">Assigning values to variables</span>__"
   ]
  },
  {
   "cell_type": "markdown",
   "metadata": {},
   "source": [
    "### <span style=\"color:orange\">(a) Single variable</span>"
   ]
  },
  {
   "cell_type": "code",
   "execution_count": null,
   "metadata": {},
   "outputs": [],
   "source": [
    "a = 'john' # single value, single variable\n",
    "print(a)\n",
    "print(type(a))"
   ]
  },
  {
   "cell_type": "markdown",
   "metadata": {},
   "source": [
    "### <span style=\"color:orange\">(b) Multi variable assigment</span>"
   ]
  },
  {
   "cell_type": "code",
   "execution_count": null,
   "metadata": {},
   "outputs": [],
   "source": [
    "b = c = d = 3 # single value, multiple variables\n",
    "print(b, c, d)"
   ]
  },
  {
   "cell_type": "code",
   "execution_count": null,
   "metadata": {},
   "outputs": [],
   "source": [
    "x, y, z = 'john', 'dime', 'harry' # multiple values, multiple variables\n",
    "print(x,y,z)"
   ]
  },
  {
   "cell_type": "markdown",
   "metadata": {},
   "source": [
    "## __<span style=\"color:blue\">Standard Data types</span>__"
   ]
  },
  {
   "cell_type": "markdown",
   "metadata": {},
   "source": [
    "1. Numbers\n",
    "    - int\n",
    "    - long\n",
    "    - float\n",
    "    - complex\n",
    "2. Strings\n",
    "3. __List__\n",
    "4. __Tuples__\n",
    "5. __Dictionary__"
   ]
  },
  {
   "cell_type": "code",
   "execution_count": null,
   "metadata": {},
   "outputs": [],
   "source": [
    "a = 'John'\n",
    "print(len(a))\n",
    "print(a[-1])"
   ]
  },
  {
   "cell_type": "markdown",
   "metadata": {},
   "source": [
    "### <span style=\"color:orange\">(a) List</span>"
   ]
  },
  {
   "cell_type": "code",
   "execution_count": null,
   "metadata": {},
   "outputs": [],
   "source": [
    "### Creating a list ####\n",
    "\n",
    "l = [2, 4, 'johns', 32.44] # [any standard data type]\n",
    "l2 = list([2, 4, 'john', 32.44])\n",
    "m = tuple('john')\n",
    "\n",
    "print(list(l[2]))\n",
    "print(l2[2:])\n",
    "print(m)"
   ]
  },
  {
   "cell_type": "code",
   "execution_count": null,
   "metadata": {},
   "outputs": [],
   "source": [
    "### accessing list elements ###\n",
    "n = l\n",
    "print(n)\n",
    "print(n[0]) # single element, list[index]\n",
    "print(n[3:]) # all the elements with index greater than or equal to 3, list[starting_index:]\n",
    "print(n[:4]) # all the elements with index less than 4, list[:last_index]\n",
    "print(n[1:4]) # all the elements starting from index 1 untill 3 , list[starting_index: last_index]"
   ]
  },
  {
   "cell_type": "code",
   "execution_count": null,
   "metadata": {},
   "outputs": [],
   "source": [
    "### changing the values of the element #### \n",
    "\n",
    "n[2] = 1 \n",
    "print(n)"
   ]
  },
  {
   "cell_type": "code",
   "execution_count": null,
   "metadata": {},
   "outputs": [],
   "source": [
    "### List operations ###\n",
    "\n",
    "m = l*2 # a*n copies list a, n times \n",
    "n = l+m # a+b adds list b to list a\n",
    "print(l)\n",
    "print(m)\n",
    "print(len(n))"
   ]
  },
  {
   "cell_type": "code",
   "execution_count": null,
   "metadata": {},
   "outputs": [],
   "source": [
    "a = 'john'\n",
    "\n",
    "#a[1] = 'a'\n",
    "a = a +'jahn'\n",
    "print(a)"
   ]
  },
  {
   "cell_type": "markdown",
   "metadata": {},
   "source": [
    "### <span style=\"color:orange\">(b) Tuples</span>"
   ]
  },
  {
   "cell_type": "markdown",
   "metadata": {},
   "source": [
    "#### <span style=\"color:brown\">Note</span>: Tuples are same as list but are immutable."
   ]
  },
  {
   "cell_type": "code",
   "execution_count": null,
   "metadata": {},
   "outputs": [],
   "source": [
    "### Creating a Tuple ###\n",
    "\n",
    "t = (2,4, 'john', 32.44)\n",
    "t2 = tuple(l)\n",
    "\n",
    "print(t)\n",
    "print(t2)"
   ]
  },
  {
   "cell_type": "code",
   "execution_count": null,
   "metadata": {},
   "outputs": [],
   "source": [
    "### values cannot be changed ###\n",
    "\n",
    "#t[0] = 4\n",
    "#(4,4, 'john', 32.44)\n",
    "t2 = (4,t[1:])\n",
    "print(t2)"
   ]
  },
  {
   "cell_type": "code",
   "execution_count": null,
   "metadata": {},
   "outputs": [],
   "source": [
    "### questions ###\n",
    "\n",
    "u = t*2\n",
    "v = t+u\n",
    "\n",
    "print(u)\n",
    "print(v)"
   ]
  },
  {
   "cell_type": "code",
   "execution_count": null,
   "metadata": {},
   "outputs": [],
   "source": [
    "a = (1,3)\n",
    "b = ['john', 'Harry', 'tom']\n",
    "c = ('new', 'Tuple', 10, 20)\n",
    "\n",
    "# Q1. (['john', 'Harry', 'tom'], (1,3))\n",
    "# Q2. ('new', 'tuple', (1,3))\n",
    "# Q3. ['john', (1,3), 'tom']\n",
    "\n",
    "print((b,a))\n",
    "print((c[0], c[1],a))\n",
    "print([b[0], a, b[2]])"
   ]
  },
  {
   "cell_type": "markdown",
   "metadata": {},
   "source": [
    "### <span style=\"color:orange\">(c) Dictionary</span>"
   ]
  },
  {
   "cell_type": "markdown",
   "metadata": {},
   "source": [
    "#### <span style=\"color:brown\">Note</span>: Dictionary in python is unordered"
   ]
  },
  {
   "cell_type": "code",
   "execution_count": null,
   "metadata": {},
   "outputs": [],
   "source": [
    "type((1,3))"
   ]
  },
  {
   "cell_type": "code",
   "execution_count": null,
   "metadata": {},
   "outputs": [],
   "source": [
    "### creating a Dictionary ###\n",
    "\n",
    "d1 = {'one': 1, 'two': 2, 1.33: 3}\n",
    "#d1['one'] = 1  # dictionary[numbers/string] = any standard data type\n",
    "#d1['two'] = 2\n",
    "d1[\"three\"] = 3\n",
    "\n",
    "print(d1)\n",
    "d1['one'] = 10\n",
    "print(d1['one'])"
   ]
  },
  {
   "cell_type": "code",
   "execution_count": null,
   "metadata": {},
   "outputs": [],
   "source": [
    "### dictionary functions ###\n",
    "\n",
    "print(d1.keys())\n",
    "print(d1.values())\n",
    "print(d1.items())"
   ]
  },
  {
   "cell_type": "code",
   "execution_count": null,
   "metadata": {},
   "outputs": [],
   "source": [
    "a = ((2,4),(1,3))\n",
    "a"
   ]
  },
  {
   "cell_type": "markdown",
   "metadata": {},
   "source": [
    "## __<span style=\"color:blue\">Type(), help() and input()</span>__"
   ]
  },
  {
   "cell_type": "markdown",
   "metadata": {},
   "source": [
    "### <span style=\"color:orange\">(a) type()</span>"
   ]
  },
  {
   "cell_type": "code",
   "execution_count": null,
   "metadata": {
    "collapsed": true
   },
   "outputs": [],
   "source": [
    "# type(a) -> returns the type of 'a'\n",
    "\n",
    "type('karan')\n",
    "type(1)\n",
    "type([1,4,4,5,5])"
   ]
  },
  {
   "cell_type": "markdown",
   "metadata": {},
   "source": [
    "### <span style=\"color:orange\">(b) help()</span>"
   ]
  },
  {
   "cell_type": "code",
   "execution_count": null,
   "metadata": {
    "collapsed": true
   },
   "outputs": [],
   "source": [
    "# help(a) -> returns the class definition for 'a'\n",
    "\n",
    "help(str)\n",
    "help('karan') # same as help(str)\n",
    "help(int)\n",
    "help(3) # same as help(int)\n",
    "help(list)\n",
    "help(dict)\n"
   ]
  },
  {
   "cell_type": "markdown",
   "metadata": {},
   "source": [
    "### <span style=\"color:orange\">(c) input()</span>"
   ]
  },
  {
   "cell_type": "code",
   "execution_count": null,
   "metadata": {},
   "outputs": [],
   "source": [
    "# choice = input('some string') -> the input value is stored as a STRING in 'choice'\n",
    "\n",
    "a = input('enter your name... please!')"
   ]
  },
  {
   "cell_type": "markdown",
   "metadata": {},
   "source": [
    "### <span style=\"color:blue\">__sizeof__()</span>"
   ]
  },
  {
   "cell_type": "code",
   "execution_count": null,
   "metadata": {},
   "outputs": [],
   "source": [
    "b.__sizeof__()  # calculate the size(in bytes) of the variable 'b' in memory "
   ]
  },
  {
   "cell_type": "markdown",
   "metadata": {},
   "source": [
    "## __<span style=\"color:blue\">Operators</span>__"
   ]
  },
  {
   "cell_type": "markdown",
   "metadata": {},
   "source": [
    "### <span style=\"color:orange\">(a) Arithmetic Operators</span>"
   ]
  },
  {
   "cell_type": "code",
   "execution_count": null,
   "metadata": {},
   "outputs": [],
   "source": [
    "n = 2\n",
    "m = 3\n",
    "\n",
    "print('additions : %d' % (m+n)) # addition\n",
    "print('subtraction : %d' % (m-n)) # subtraction\n",
    "print('multiplication : %d' % (m*n)) # multiplication\n",
    "print('division : %f' % (m/n)) # division\n",
    "print('modulus : %d' % (m%n)) # modulus (remainder)\n",
    "print('floor division : %d' % (m//n)) # floor division (quotient)\n",
    "print('exponent : %d' % (m**n)) # exponent"
   ]
  },
  {
   "cell_type": "markdown",
   "metadata": {},
   "source": [
    "### <span style=\"color:orange\">(b) Logical Operators</span>\n",
    "\n",
    "    - and -> (a and b) \n",
    "    - or -> (a or b)\n",
    "    - not -> not(a)"
   ]
  },
  {
   "cell_type": "code",
   "execution_count": null,
   "metadata": {},
   "outputs": [],
   "source": [
    "# use PRINT() if you want to print all the outputs together, else only the last output will be printed.\n",
    "\n",
    "not(True)\n",
    "not(int)\n",
    "not(str)\n",
    "not(dict)"
   ]
  },
  {
   "cell_type": "markdown",
   "metadata": {},
   "source": [
    "### <span style=\"color:orange\">(c) Membership operators</span>\n",
    "\n",
    "    - in\n",
    "    - not in"
   ]
  },
  {
   "cell_type": "code",
   "execution_count": null,
   "metadata": {},
   "outputs": [],
   "source": [
    "1 in [1,2,3,4,5]"
   ]
  },
  {
   "cell_type": "markdown",
   "metadata": {},
   "source": [
    "### <span style=\"color:orange\">(d) Comparison Operators</span>\n",
    "     (a == b) -> True, if a 'is equal to' b\n",
    "     (a != b) -> True, if a 'is not equal to' b\n",
    "     (a <> b) -> True, if a 'is not equal to' b\n",
    "     (a < b)  -> True, if a 'is less than' b\n",
    "     (a > b)  -> True, if a 'is greater than' b\n",
    "     (a <= b) -> True, if a 'is less than or equal to' b\n",
    "     (a >= b) -> True, if a 'is greater than or equal to' b"
   ]
  },
  {
   "cell_type": "markdown",
   "metadata": {},
   "source": [
    "## __<span style=\"color:blue\">Loops</span>__"
   ]
  },
  {
   "cell_type": "markdown",
   "metadata": {},
   "source": [
    "\n",
    "### <span style=\"color:orange\">Range()</span>"
   ]
  },
  {
   "cell_type": "code",
   "execution_count": null,
   "metadata": {},
   "outputs": [],
   "source": [
    "# range(start, end, steps) -> returns a range object\n",
    "\n",
    "range(5) # range(0,5)\n",
    "range(1,11) #range(1,11) ; steps default value is 1\n",
    "range(1,10,2) # range(1,10)"
   ]
  },
  {
   "cell_type": "code",
   "execution_count": null,
   "metadata": {
    "collapsed": true
   },
   "outputs": [],
   "source": [
    "# to convert the range object to a list use 'list()'\n",
    "\n",
    "list(range(10))"
   ]
  },
  {
   "cell_type": "markdown",
   "metadata": {},
   "source": [
    "### <span style=\"color:orange\">(a) For loop</span>"
   ]
  },
  {
   "cell_type": "code",
   "execution_count": null,
   "metadata": {},
   "outputs": [],
   "source": [
    "# in python, for is meant to operate on iterables.\n",
    "\n",
    "for i in range(10):    # for 'element' in 'sequence' :\n",
    "    pass\n",
    "print(i)           # statements to execute"
   ]
  },
  {
   "cell_type": "code",
   "execution_count": null,
   "metadata": {},
   "outputs": [],
   "source": [
    "for i in ['john', (1, 3), 'tom']:\n",
    "    print(i)"
   ]
  },
  {
   "cell_type": "code",
   "execution_count": null,
   "metadata": {
    "collapsed": true
   },
   "outputs": [],
   "source": [
    "\"\"\"\n",
    "1. *****\n",
    "   ****\n",
    "   ***\n",
    "   **\n",
    "   *\n",
    "   \n",
    "2. *****\n",
    "   ****\n",
    "   ***\n",
    "   **\n",
    "   *\n",
    "   **\n",
    "   ***\n",
    "   ****\n",
    "   *****\n",
    "\"\"\"\n"
   ]
  },
  {
   "cell_type": "markdown",
   "metadata": {},
   "source": [
    "### <span style=\"color:orange\">(b) While loop</span>\n",
    "#### <span style=\"color:brown\">Note</span> : you must increment or decrement the condition variable to make the expression FALSE at some point "
   ]
  },
  {
   "cell_type": "code",
   "execution_count": null,
   "metadata": {
    "collapsed": true
   },
   "outputs": [],
   "source": [
    "a = 1\n",
    "while (a<10):     # while (expression/condition):\n",
    "    print(a)      # statements to be executed \n",
    "    a += 1        # incrementing the variable a"
   ]
  },
  {
   "cell_type": "code",
   "execution_count": null,
   "metadata": {
    "scrolled": true
   },
   "outputs": [],
   "source": [
    "list(range(10))"
   ]
  },
  {
   "cell_type": "markdown",
   "metadata": {},
   "source": [
    "#### <span style=\"color:brown\">Note</span> :Range is quiet smart and dont let you define infinite list. So its not possible to make infinite for loop using range(), but you have other functions to help you with it."
   ]
  },
  {
   "cell_type": "code",
   "execution_count": null,
   "metadata": {},
   "outputs": [],
   "source": [
    "a = range(5,3,2)\n",
    "list(a)   # notice that the output is an empty list"
   ]
  },
  {
   "cell_type": "markdown",
   "metadata": {},
   "source": [
    "## __<span style=\"color:blue\">Decision Making</span>__"
   ]
  },
  {
   "cell_type": "markdown",
   "metadata": {},
   "source": [
    "### <span style=\"color:orange\">(a) if statement</span>"
   ]
  },
  {
   "cell_type": "code",
   "execution_count": null,
   "metadata": {
    "collapsed": true
   },
   "outputs": [],
   "source": [
    "a = 1\n",
    "if (a == 1):    # if (expression/condition):\n",
    "    print(True) # statements to execute\n",
    "    "
   ]
  },
  {
   "cell_type": "markdown",
   "metadata": {},
   "source": [
    "### <span style=\"color:orange\"> (b) if - else statement</span>"
   ]
  },
  {
   "cell_type": "code",
   "execution_count": null,
   "metadata": {
    "collapsed": true
   },
   "outputs": [],
   "source": [
    "a = 0\n",
    "if (a == 1):     # if (expression/condition):\n",
    "    print(True)  # statements to execute\n",
    "else:            # else:\n",
    "    print(False) # statements to execute"
   ]
  },
  {
   "cell_type": "code",
   "execution_count": null,
   "metadata": {},
   "outputs": [],
   "source": [
    "a = [1,3.45,66]\n",
    "a.pop\n",
    "a"
   ]
  },
  {
   "cell_type": "markdown",
   "metadata": {},
   "source": [
    "### <span style=\"color:orange\"> (c) elif statement</span>"
   ]
  },
  {
   "cell_type": "code",
   "execution_count": null,
   "metadata": {},
   "outputs": [],
   "source": [
    "if (a == 1):\n",
    "    print(1)\n",
    "elif(a == 2):  # creates an 'else if' ladder \n",
    "    print(2)\n",
    "else:\n",
    "    print('0')"
   ]
  },
  {
   "cell_type": "markdown",
   "metadata": {},
   "source": [
    "## __<span style=\"color:blue\">Functions</span>__"
   ]
  },
  {
   "cell_type": "markdown",
   "metadata": {},
   "source": [
    "~~~ python\n",
    "> def Name(parameters):\n",
    ">    statement 1\n",
    ">    statement 2\n",
    ">    ...\n",
    ">    return value\n",
    "~~~"
   ]
  },
  {
   "cell_type": "code",
   "execution_count": null,
   "metadata": {
    "collapsed": true
   },
   "outputs": [],
   "source": [
    "def addition(a,b):    \n",
    "    return a+b\n",
    "\n",
    "addition(['karan'],('arjun'))"
   ]
  },
  {
   "cell_type": "markdown",
   "metadata": {},
   "source": [
    "### Scope of variables"
   ]
  },
  {
   "cell_type": "code",
   "execution_count": null,
   "metadata": {},
   "outputs": [],
   "source": [
    "a = 0 # global\n",
    "b = 2 # global\n",
    "\n",
    "def nnew(b):\n",
    "    #global b    # use 'global' keyword to access global variables\n",
    "    a = b+1\n",
    "    print(b)\n",
    "    print(a)\n",
    "    \n",
    "nnew()\n",
    "print(b)"
   ]
  },
  {
   "cell_type": "markdown",
   "metadata": {},
   "source": [
    "#### <span style=\"color:brown\">Note 1</span> : Use 'global' keyword to access any global variable inside a function (or) pass the variable as an argument to the function.\n",
    "#### <span style=\"color:brown\">Note 2</span> : local variables are preffered over global variables (inside a function)."
   ]
  },
  {
   "cell_type": "markdown",
   "metadata": {},
   "source": [
    "## __<span style=\"color:blue\">List comprehensions, lambda functions, map()</span>__"
   ]
  },
  {
   "cell_type": "markdown",
   "metadata": {},
   "source": [
    "### <span style=\"color:orange\">(a) List Comprehensions</span>"
   ]
  },
  {
   "cell_type": "code",
   "execution_count": null,
   "metadata": {},
   "outputs": [],
   "source": [
    "# [i forLoop(*) condition(0-1)]\n",
    "\n",
    "a = [i for i in range(11)]\n",
    "a"
   ]
  },
  {
   "cell_type": "code",
   "execution_count": null,
   "metadata": {},
   "outputs": [],
   "source": [
    "# [i forloop condition]\n",
    "\n",
    "b = [i for i in range(11) if i%2 == 0]\n",
    "b"
   ]
  },
  {
   "cell_type": "code",
   "execution_count": null,
   "metadata": {},
   "outputs": [],
   "source": [
    "b= []\n",
    "for i in range(11):\n",
    "    if i%2 == 0:\n",
    "        b.append(i)\n",
    "b"
   ]
  },
  {
   "cell_type": "code",
   "execution_count": null,
   "metadata": {
    "collapsed": true
   },
   "outputs": [],
   "source": [
    "# [i forloop forloop condition]\n",
    "\n",
    "c = [i*j for i in range(11) for j in range(11) if (i*j)%2 == 0 and (i*j) != 0]\n",
    "c"
   ]
  },
  {
   "cell_type": "markdown",
   "metadata": {},
   "source": [
    "### <span style=\"color:orange\">(b) Lambda function</span>"
   ]
  },
  {
   "cell_type": "code",
   "execution_count": null,
   "metadata": {},
   "outputs": [],
   "source": [
    "# lambda para1, para2, .... : statements to execute\n",
    "\n",
    "greater = lambda a,b: a if a>b else b # x if C else y (conditional expression)\n",
    "greater(1,2)"
   ]
  },
  {
   "cell_type": "markdown",
   "metadata": {},
   "source": [
    "### <span style=\"color:orange\">(c) Maps</span>"
   ]
  },
  {
   "cell_type": "code",
   "execution_count": null,
   "metadata": {},
   "outputs": [],
   "source": [
    "# map(function, itr1, itr2, ....)\n",
    "\n",
    "def add(a,b):\n",
    "    # a (int) : temp\n",
    "    # b (int) : anything\n",
    "    return a+b\n",
    "\n",
    "a = map(add, list(range(5)), list(range(5)))\n",
    "list(a)"
   ]
  },
  {
   "cell_type": "markdown",
   "metadata": {},
   "source": [
    "#### <span style=\"color:brown\">Note 1</span> : the number of iterables should be equal to number of function parameters.\n",
    "#### <span style=\"color:brown\">Note 2</span> : all the iterables should have same number of elements."
   ]
  },
  {
   "cell_type": "code",
   "execution_count": null,
   "metadata": {},
   "outputs": [],
   "source": [
    "# lambda para1, para2, .... : statements to execute\n",
    "\n",
    "a = map(lambda a,b: a+b, list(range(5)), list(range(5)))\n",
    "list(a)"
   ]
  },
  {
   "cell_type": "markdown",
   "metadata": {},
   "source": [
    "#### <span style=\"color:brown\">Note</span> :you cannot introduce  new variables or assign values, inside list comprehensions and lambda funtions. They are suppose to be simple one liner. Mostly used for minor Manipulation or filtering."
   ]
  },
  {
   "cell_type": "markdown",
   "metadata": {},
   "source": [
    "## __<span style=\"color:blue\">Home Work Questions</span>__"
   ]
  },
  {
   "cell_type": "markdown",
   "metadata": {},
   "source": [
    "### <span style=\"color:blue\">Functions</span>"
   ]
  },
  {
   "cell_type": "markdown",
   "metadata": {},
   "source": [
    "### Q1. The Collatz Sequence \n",
    "Write a function named <b>collatz()</b> that has one parameter named number.<br>\n",
    "<b>(a)</b> If number is even, then collatz() should print number // 2 and return this value.<br> \n",
    "<b>(b)</b> If number is odd, then collatz() should print and return 3 * number + 1.<br> \n",
    "Then write a program that lets the user type in an integer and that keeps calling collatz() on that number <b>until the function returns the value 1</b>.<br> \n",
    "(Amazingly enough, this sequence actually works for any integer—sooner or later, using this sequence, you’ll arrive at 1! Even mathematicians aren’t sure why. Your program is exploring what’s called the Collatz sequence, sometimes called “the simplest impossible math problem.”)<br>  \n",
    "\n",
    "<b>Hint:</b> An integer number is even if number % 2 == 0, and it’s odd if  number % 2 == 1.\n",
    "\n",
    "<b>Sample Output :</b> for collatz(3)\n",
    "<br>3<br> 10<br> 5<br> 16<br> 8<br> 4<br> 2<br> 1"
   ]
  },
  {
   "cell_type": "markdown",
   "metadata": {},
   "source": [
    "### <span style=\"color:blue\">Lists</span>"
   ]
  },
  {
   "cell_type": "markdown",
   "metadata": {},
   "source": [
    "### Q2. Comma Code \n",
    "Say you have a list value like this:<br>\n",
    "~~~ python\n",
    "> spam = ['apples', 'bananas', 'tofu', 'cats']\n",
    "~~~\n",
    "Write a function that takes a list value as an argument and returns a string with all the items separated by a comma and a space, with and inserted before the last item.<br>\n",
    "For example, passing the previous spam list to the function would return <b>'apples, bananas, tofu, and cats'</b>. But your function should be able to work with any list value passed to it."
   ]
  },
  {
   "cell_type": "markdown",
   "metadata": {},
   "source": [
    "### Q3. Character Picture Grid \n",
    "Say you have a list of lists where each value in the inner lists is a one-character string, like this:<br>\n",
    "~~~ python\n",
    "grid = [['.', '.', '.', '.', '.', '.'],       \n",
    "        ['.', 'O', 'O', '.', '.', '.'],        \n",
    "        ['O', 'O', 'O', 'O', '.', '.'],        \n",
    "        ['O', 'O', 'O', 'O', 'O', '.'],        \n",
    "        ['.', 'O', 'O', 'O', 'O', 'O'],        \n",
    "        ['O', 'O', 'O', 'O', 'O', '.'],        \n",
    "        ['O', 'O', 'O', 'O', '.', '.'],        \n",
    "        ['.', 'O', 'O', '.', '.', '.'],        \n",
    "        ['.', '.', '.', '.', '.', '.']]\n",
    "~~~\n",
    "You can think of grid[x][y] as being the character at the x- and y- coordinates of a “picture” drawn with text characters. The (0, 0) origin will be in the upper-left corner, the x-coordinates increase going right, and w the y-coordinates increase going down.<br> Copy the previous grid value, and write code that uses it to print the image.<br>\n",
    "~~~ python\n",
    "..OO.OO.. \n",
    ".OOOOOOO. \n",
    ".OOOOOOO. \n",
    "..OOOOO.. \n",
    "...OOO... \n",
    "....O....\n",
    "~~~\n"
   ]
  },
  {
   "cell_type": "markdown",
   "metadata": {},
   "source": [
    "### <span style=\"color:blue\">Dictionary</span>"
   ]
  },
  {
   "cell_type": "markdown",
   "metadata": {},
   "source": [
    "### Fantasy Game Inventory\n",
    "You are creating a fantasy video game. The data structure to model the player’s inventory will be a dictionary where the keys are string values describing the item in the inventory and the value is an integer value detailing how many of that item the player has. For example, the dictionary value <b>\n",
    "~~~ python\n",
    "{'rope': 1, 'torch': 6, 'gold coin': 42, 'dagger': 1, 'arrow': 12}\n",
    "~~~\n",
    "</b> means the player has <b>1 rope, 6 torches, 42 gold coins, and so on.</b> "
   ]
  },
  {
   "cell_type": "markdown",
   "metadata": {},
   "source": [
    "### Q4. displayInventory()\n",
    "Write a function named <b>displayInventory()</b> that would take any possible “inventory” and display it like the following:\n",
    "~~~ python\n",
    "Inventory: \n",
    "12 arrow \n",
    "42 gold coin \n",
    "1 rope \n",
    "6 torch \n",
    "1 dagger \n",
    "Total number of items: 62\n",
    "~~~"
   ]
  },
  {
   "cell_type": "markdown",
   "metadata": {},
   "source": [
    "### Q5.  addToInventory(inventory, addedItems)\n",
    "Write a function named <b>addToInventory(inventory, addedItems)</b>, where the <b>inventory</b> parameter is a dictionary representing the player’s inventory (like in the previous project) and the <b>addedItems</b> parameter is a list like dragonLoot.<br> The <b>addToInventory()</b> function should return a dictionary that represents the updated inventory. <br><b>Note:</b> that the addedItems list can contain multiples of the same item.<br>\n",
    "Your code could look something like this:\n",
    "~~~ python\n",
    "def addToInventory(inventory, addedItems):    \n",
    "     # your code goes here\n",
    "\n",
    "inv = {'gold coin': 42, 'rope': 1} \n",
    "dragonLoot = ['gold coin', 'dagger', 'gold coin', 'gold coin', 'ruby'] \n",
    "inv = addToInventory(inv, dragonLoot) \n",
    "displayInventory(inv)\n",
    "\n",
    "~~~\n"
   ]
  },
  {
   "cell_type": "markdown",
   "metadata": {},
   "source": [
    "<b>Output:</b>\n",
    "~~~ python\n",
    "Inventory: \n",
    "45 gold coin \n",
    "1 rope \n",
    "1 ruby \n",
    "1 dagger\n",
    "Total number of items: 48\n",
    "~~~"
   ]
  },
  {
   "cell_type": "markdown",
   "metadata": {},
   "source": [
    "### <span style=\"color:red\">Love python !!</span>"
   ]
  }
 ],
 "metadata": {
  "kernelspec": {
   "display_name": "Python 3",
   "language": "python",
   "name": "python3"
  },
  "language_info": {
   "codemirror_mode": {
    "name": "ipython",
    "version": 3
   },
   "file_extension": ".py",
   "mimetype": "text/x-python",
   "name": "python",
   "nbconvert_exporter": "python",
   "pygments_lexer": "ipython3",
   "version": "3.6.1"
  }
 },
 "nbformat": 4,
 "nbformat_minor": 2
}
